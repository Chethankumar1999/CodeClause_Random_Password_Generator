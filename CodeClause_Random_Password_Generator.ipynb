{
 "cells": [
  {
   "attachments": {},
   "cell_type": "markdown",
   "metadata": {},
   "source": [
    "# Random Password Generator"
   ]
  },
  {
   "cell_type": "code",
   "execution_count": 1,
   "metadata": {},
   "outputs": [],
   "source": [
    "# The random and string modules and defines a function that generates a random password.\n",
    "\n",
    "import random\n",
    "import string\n",
    "\n",
    "# generate_password function takes a length parameter, which specifies the length of the password.\n",
    "\n",
    "def generate_password(length):\n",
    "    \n",
    "    # The string module to define a set of characters to choose from.\n",
    "    \n",
    "    letters = string.ascii_letters\n",
    "    digits = string.digits\n",
    "    symbols = string.punctuation\n",
    "    \n",
    "    # The random.choice function is used to randomly select characters from the set,\n",
    "    # The join function is used to concatenate the characters into a string.\n",
    "    \n",
    "    password = ''.join(random.choice(letters + digits + symbols) for i in range(length))\n",
    "    return password"
   ]
  },
  {
   "cell_type": "code",
   "execution_count": 2,
   "metadata": {},
   "outputs": [
    {
     "name": "stdout",
     "output_type": "stream",
     "text": [
      "5nNd$ci\\rwqD\n"
     ]
    }
   ],
   "source": [
    "# The generate_password function call.\n",
    "\n",
    "password = generate_password(12)\n",
    "print(password)\n",
    "\n",
    "# Generates a 12-character random password and prints it to the console."
   ]
  },
  {
   "cell_type": "code",
   "execution_count": null,
   "metadata": {},
   "outputs": [],
   "source": []
  }
 ],
 "metadata": {
  "kernelspec": {
   "display_name": "base",
   "language": "python",
   "name": "python3"
  },
  "language_info": {
   "codemirror_mode": {
    "name": "ipython",
    "version": 3
   },
   "file_extension": ".py",
   "mimetype": "text/x-python",
   "name": "python",
   "nbconvert_exporter": "python",
   "pygments_lexer": "ipython3",
   "version": "3.9.13"
  },
  "orig_nbformat": 4
 },
 "nbformat": 4,
 "nbformat_minor": 2
}
